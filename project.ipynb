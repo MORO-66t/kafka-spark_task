{
 "cells": [
  {
   "cell_type": "code",
   "execution_count": null,
   "metadata": {},
   "outputs": [
    {
     "data": {
      "text/html": [
       "<div>\n",
       "<style scoped>\n",
       "    .dataframe tbody tr th:only-of-type {\n",
       "        vertical-align: middle;\n",
       "    }\n",
       "\n",
       "    .dataframe tbody tr th {\n",
       "        vertical-align: top;\n",
       "    }\n",
       "\n",
       "    .dataframe thead th {\n",
       "        text-align: right;\n",
       "    }\n",
       "</style>\n",
       "<table border=\"1\" class=\"dataframe\">\n",
       "  <thead>\n",
       "    <tr style=\"text-align: right;\">\n",
       "      <th></th>\n",
       "      <th>primaryCategories</th>\n",
       "      <th>reviews.rating</th>\n",
       "    </tr>\n",
       "  </thead>\n",
       "  <tbody>\n",
       "    <tr>\n",
       "      <th>0</th>\n",
       "      <td>Electronics</td>\n",
       "      <td>3</td>\n",
       "    </tr>\n",
       "    <tr>\n",
       "      <th>1</th>\n",
       "      <td>Electronics</td>\n",
       "      <td>5</td>\n",
       "    </tr>\n",
       "    <tr>\n",
       "      <th>2</th>\n",
       "      <td>Electronics</td>\n",
       "      <td>4</td>\n",
       "    </tr>\n",
       "    <tr>\n",
       "      <th>3</th>\n",
       "      <td>Electronics</td>\n",
       "      <td>5</td>\n",
       "    </tr>\n",
       "  </tbody>\n",
       "</table>\n",
       "</div>"
      ],
      "text/plain": [
       "  primaryCategories  reviews.rating\n",
       "0       Electronics               3\n",
       "1       Electronics               5\n",
       "2       Electronics               4\n",
       "3       Electronics               5"
      ]
     },
     "execution_count": 1,
     "metadata": {},
     "output_type": "execute_result"
    }
   ],
   "source": [
    "import pandas as pd\n",
    "\n",
    "df = pd.read_csv(\"Datafiniti_Amazon_Consumer_Reviews_of_Amazon_Products.csv\")\n",
    "\n",
    "df = df[[\"primaryCategories\", \"reviews.rating\"]]\n",
    "\n",
    "df = df.dropna()\n",
    "\n",
    "df.to_csv(\"Cleaned_Reviews.csv\", index=False)\n",
    "\n",
    "df.head(4)\n"
   ]
  },
  {
   "cell_type": "code",
   "execution_count": null,
   "metadata": {},
   "outputs": [],
   "source": [
    "from kafka import KafkaProducer\n",
    "import pandas as pd\n",
    "import json\n",
    "import time\n",
    "\n",
    "data = pd.read_csv(\"Cleaned_Reviews.csv\")\n",
    "\n",
    "producer = KafkaProducer(\n",
    "    bootstrap_servers='localhost:9092',\n",
    "    value_serializer=lambda v: json.dumps(v).encode('utf-8')\n",
    ")\n",
    "\n",
    "for i, row in data.iterrows():\n",
    "    record = {\n",
    "        \"primaryCategories\": row[\"primaryCategories\"],\n",
    "        \"reviews_rating\": row[\"reviews.rating\"]\n",
    "    }\n",
    "    producer.send('product-reviews', value=record)\n",
    "    print(f\"Sent: {record}\")\n",
    "    time.sleep(1) \n",
    "\n",
    "producer.flush()\n",
    "producer.close()\n",
    "\n"
   ]
  },
  {
   "cell_type": "code",
   "execution_count": null,
   "metadata": {},
   "outputs": [],
   "source": [
    "query.stop()"
   ]
  },
  {
   "cell_type": "code",
   "execution_count": null,
   "metadata": {},
   "outputs": [
    {
     "name": "stdout",
     "output_type": "stream",
     "text": [
      "('Electronics', 4.333333333333333)\n",
      "('Electronics,Hardware', 4.8125)\n",
      "('Electronics', 4.333333333333333)\n",
      "('Electronics,Hardware', 4.703125)\n",
      "('Electronics', 4.333333333333333)\n",
      "('Electronics,Hardware', 4.711711711711712)\n",
      "('Electronics', 4.333333333333333)\n",
      "('Electronics,Hardware', 4.681528662420382)\n",
      "('Electronics', 4.333333333333333)\n",
      "('Electronics,Hardware', 4.671717171717172)\n",
      "('Electronics', 4.333333333333333)\n",
      "('Electronics,Hardware', 4.680327868852459)\n",
      "('Electronics', 4.333333333333333)\n",
      "('Electronics,Hardware', 4.663398692810458)\n",
      "('Electronics', 4.333333333333333)\n",
      "('Electronics,Hardware', 4.6824512534818945)\n",
      "('Electronics', 4.333333333333333)\n",
      "('Electronics,Hardware', 4.6875)\n",
      "('Electronics', 4.333333333333333)\n",
      "('Electronics,Hardware', 4.667386609071274)\n",
      "('Electronics', 4.333333333333333)\n",
      "('Electronics,Hardware', 4.663405088062622)\n",
      "('Electronics', 4.333333333333333)\n",
      "('Electronics,Hardware', 4.670231729055258)\n",
      "('Electronics', 4.333333333333333)\n",
      "('Electronics,Hardware', 4.667747163695299)\n",
      "('Electronics', 4.333333333333333)\n",
      "('Electronics,Hardware', 4.673590504451038)\n",
      "('Electronics', 4.333333333333333)\n",
      "('Electronics,Hardware', 4.668500687757909)\n",
      "('Electronics', 4.333333333333333)\n",
      "('Electronics,Hardware', 4.656290531776913)\n",
      "('Electronics', 4.333333333333333)\n",
      "('Electronics,Hardware', 4.660954712362301)\n",
      "('Electronics', 4.379310344827586)\n",
      "('Electronics,Hardware', 4.66588785046729)\n",
      "('Electronics', 4.379310344827586)\n",
      "('Electronics,Hardware', 4.6722222222222225)\n",
      "('Electronics', 4.379310344827586)\n",
      "('Electronics,Hardware', 4.677248677248677)\n",
      "('Electronics', 4.379310344827586)\n",
      "('Electronics,Hardware', 4.680851063829787)\n",
      "('Electronics', 4.379310344827586)\n",
      "('Electronics,Hardware', 4.682832201745878)\n",
      "('Electronics', 4.379310344827586)\n",
      "('Electronics,Hardware', 4.681010289990645)\n",
      "('Electronics', 4.379310344827586)\n",
      "('Electronics,Hardware', 4.682511210762332)\n"
     ]
    }
   ],
   "source": [
    "# import mysql.connector\n",
    "\n",
    "# # Connect to MySQL\n",
    "# conn = mysql.connector.connect(\n",
    "#     host=\"localhost\",\n",
    "#     user=\"root\",\n",
    "#     password=\"0plm0plM@\",\n",
    "#     database=\"reviewsdb\"\n",
    "# )\n",
    "\n",
    "# cursor = conn.cursor()\n",
    "\n",
    "# # Fetch data\n",
    "# cursor.execute(\"SELECT * FROM average_ratings;\")\n",
    "# for row in cursor.fetchall():\n",
    "#     print(row)\n",
    "\n",
    "# conn.close()\n"
   ]
  }
 ],
 "metadata": {
  "kernelspec": {
   "display_name": "Python 3",
   "language": "python",
   "name": "python3"
  },
  "language_info": {
   "codemirror_mode": {
    "name": "ipython",
    "version": 3
   },
   "file_extension": ".py",
   "mimetype": "text/x-python",
   "name": "python",
   "nbconvert_exporter": "python",
   "pygments_lexer": "ipython3",
   "version": "3.9.0"
  }
 },
 "nbformat": 4,
 "nbformat_minor": 2
}
